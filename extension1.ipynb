{
 "cells": [
  {
   "cell_type": "code",
   "execution_count": 128,
   "id": "dd2c1efe",
   "metadata": {},
   "outputs": [
    {
     "data": {
      "text/plain": [
       "<module 'datamanager' from '/Users/ericasuh/530project/datamanager.py'>"
      ]
     },
     "execution_count": 128,
     "metadata": {},
     "output_type": "execute_result"
    }
   ],
   "source": [
    "import pandas as pd\n",
    "import numpy as np\n",
    "import datamanager\n",
    "from datetime import datetime\n",
    "from collections import OrderedDict\n",
    "\n",
    "import torch\n",
    "import torch.nn as nn\n",
    "import torch.nn.functional as F\n",
    "import torch.optim as optim\n",
    "from torch.utils.data import Dataset\n",
    "from torch.utils.data import DataLoader\n",
    "from sklearn.model_selection import train_test_split\n",
    "\n",
    "# from importlib import reload\n",
    "# reload(datamanager)"
   ]
  },
  {
   "cell_type": "markdown",
   "id": "8d71fa82",
   "metadata": {},
   "source": [
    "# Import data"
   ]
  },
  {
   "cell_type": "code",
   "execution_count": 129,
   "id": "c0255a8e",
   "metadata": {},
   "outputs": [
    {
     "name": "stdout",
     "output_type": "stream",
     "text": [
      "2021-12-09 21:13:28.511330: Tokenizing tweets\n",
      "2021-12-09 21:14:05.282829: Fitting tokenizer\n",
      "2021-12-09 21:14:11.780694: Texts to sequences\n",
      "2021-12-09 21:14:15.969340: Padding sequences\n",
      "2021-12-09 21:14:16.395689: Done\n"
     ]
    }
   ],
   "source": [
    "dm = datamanager.DataManager()\n",
    "# dm.combine_tweets()\n",
    "data, labels = dm.preprocess(\"data/games_with_preprocessed_tweets_all.csv\")"
   ]
  },
  {
   "cell_type": "code",
   "execution_count": 135,
   "id": "866019b3",
   "metadata": {},
   "outputs": [
    {
     "name": "stdout",
     "output_type": "stream",
     "text": [
      "Train: 2582 samples\n",
      "Dev: 646 samples\n",
      "Test: 807 samples\n",
      "\n"
     ]
    }
   ],
   "source": [
    "data1, labels1 = np.array(data), np.array(labels)\n",
    "X, X_test, y, y_test = train_test_split(data1, labels1, test_size=0.2, random_state=0)\n",
    "X_train, X_dev, y_train, y_dev = train_test_split(X, y, test_size=0.2, random_state=0)\n",
    "print(\n",
    "    f\"Train: {len(y_train)} samples\\n\"\n",
    "    f\"Dev: {len(y_dev)} samples\\n\"\n",
    "    f\"Test: {len(y_test)} samples\\n\"\n",
    ")"
   ]
  },
  {
   "cell_type": "code",
   "execution_count": 136,
   "id": "2d3b95a1",
   "metadata": {},
   "outputs": [],
   "source": [
    "class DataHandler(Dataset):\n",
    "    '''Handles batches of dataset'''\n",
    "    def __init__(self, x, y):\n",
    "        self.x = x\n",
    "        self.y = y\n",
    "\n",
    "    def __len__(self):\n",
    "        return len(self.x)\n",
    "\n",
    "    def __getitem__(self, idx):\n",
    "        return self.x[idx], self.y[idx]"
   ]
  },
  {
   "cell_type": "markdown",
   "id": "ecd3a747",
   "metadata": {},
   "source": [
    "# Model"
   ]
  },
  {
   "cell_type": "code",
   "execution_count": 137,
   "id": "1468b4be",
   "metadata": {},
   "outputs": [],
   "source": [
    "class NBAModel(torch.nn.Module):\n",
    "    def __init__(self, args):\n",
    "        super().__init__()\n",
    "\n",
    "        # Hyperparameters\n",
    "        self.batch_size  = args.batch_size\n",
    "        self.hidden_dim  = args.hidden_dim\n",
    "        self.LSTM_layers = args.lstm_layers\n",
    "        self.input_size  = args.max_words\n",
    "\n",
    "        self.dropout = nn.Dropout(0.5)\n",
    "        self.embedding = nn.Embedding(self.input_size, self.hidden_dim, padding_idx=0)\n",
    "        self.lstm = nn.LSTM(input_size=self.hidden_dim, hidden_size=self.hidden_dim, num_layers=self.LSTM_layers, batch_first=True)\n",
    "        self.fc1 = nn.Linear(in_features=self.hidden_dim, out_features=self.hidden_dim*2)\n",
    "        self.fc2 = nn.Linear(self.hidden_dim*2, 1)\n",
    "\n",
    "    def forward(self, x):\n",
    "        # Hidden and cell state definion\n",
    "        h = torch.zeros((self.LSTM_layers, x.shape[0], self.hidden_dim))\n",
    "        c = torch.zeros((self.LSTM_layers, x.shape[0], self.hidden_dim))\n",
    "\n",
    "        # Initialization fo hidden and cell states\n",
    "        torch.nn.init.xavier_normal_(h)\n",
    "        torch.nn.init.xavier_normal_(c)\n",
    "        \n",
    "        # Each sequence \"x\" is passed through an embedding layer\n",
    "        out = self.embedding(x)\n",
    "        # Feed LSTMs\n",
    "        out, (hidden, cell) = self.lstm(out, (h,c))\n",
    "        out = self.dropout(out)\n",
    "        # The last hidden state is taken\n",
    "        out = torch.relu_(self.fc1(out[:,-1,:]))\n",
    "        out = self.dropout(out)\n",
    "        out = torch.sigmoid(self.fc2(out))\n",
    "        return out"
   ]
  },
  {
   "cell_type": "markdown",
   "id": "5fd175be",
   "metadata": {},
   "source": [
    "## Model arguments"
   ]
  },
  {
   "cell_type": "code",
   "execution_count": 138,
   "id": "87d9fa5f",
   "metadata": {},
   "outputs": [],
   "source": [
    "class Args(object):\n",
    "    def __init__(self):\n",
    "        self.batch_size = 64\n",
    "        self.hidden_dim = 256\n",
    "        self.lstm_layers = 2\n",
    "        self.max_words = 200000\n",
    "        self.learning_rate = 0.001 \n",
    "        self.weight_decay = 0.00001\n",
    "        self.beta1 = 0.9\n",
    "        self.beta2 = 0.99\n",
    "        self.adam_epsilon = 1e-08   \n",
    "        self.logging_interval = 10 \n",
    "        self.num_epochs = 10\n",
    "        self.device_name = 'cuda:0'\n",
    "        self.device = None"
   ]
  },
  {
   "cell_type": "markdown",
   "id": "ea262b00",
   "metadata": {},
   "source": [
    "## Train"
   ]
  },
  {
   "cell_type": "code",
   "execution_count": null,
   "id": "1d78f702",
   "metadata": {},
   "outputs": [],
   "source": [
    "def load_data(X, y, batch_size=64):\n",
    "    data = DataHandler(X, y)\n",
    "    return DataLoader(data, batch_size=batch_size)\n",
    "\n",
    "def predict(model, inputs, device):\n",
    "    inputs = inputs.to(device)\n",
    "    logits = model(inputs)\n",
    "    return F.softmax(logits, -1)\n",
    "\n",
    "def accuracy(outputs, labels):\n",
    "    outputs_idx = outputs.max(1)[1].type_as(labels)\n",
    "    return outputs_idx.eq(labels).float().mean()\n",
    "\n",
    "def validate(dev_data, model):\n",
    "    predictions = []\n",
    "    model.eval()\n",
    "    with torch.no_grad():\n",
    "        for x_batch, y_batch in dev_data:\n",
    "            x = x_batch.type(torch.LongTensor)\n",
    "            y = y_batch.type(torch.LongTensor)\n",
    "            y_pred = model(x)\n",
    "            predictions += list(y_pred.detach().numpy())\n",
    "    return predictions\n",
    "\n",
    "def train(args, X_train, y_train, X_dev, y_dev):\n",
    "    model = NBAModel(args)\n",
    "    model = model.to(args.device)\n",
    "    optimizer = optim.Adam(model.parameters(), lr=args.learning_rate)\n",
    "    \n",
    "    train_data = load_data(X_train, y_train)\n",
    "    dev_data = load_data(X_dev, y_dev)\n",
    "    train_loss, val_loss = [], []\n",
    "\n",
    "    for epoch in range(args.num_epochs):\n",
    "        #total_train_loss, total_val_loss = 0, 0\n",
    "        train_predictions = []\n",
    "        \n",
    "        # train\n",
    "        model.train()\n",
    "        for X_batch, y_batch in train_data:\n",
    "            x = X_batch.type(torch.int)\n",
    "            y = y_batch.type(torch.FloatTensor)\n",
    "            print(f\"{datetime.now()}: Predicting\")\n",
    "            y_pred = model(x)\n",
    "            y = y.unsqueeze(1)\n",
    "            print(f\"{datetime.now()}: Calculating loss\")\n",
    "            loss = F.binary_cross_entropy(y_pred, y)\n",
    "            optimizer.zero_grad()\n",
    "            loss.backward()\n",
    "            optimizer.step()\n",
    "            train_predictions += list(y_pred.squeeze().detach().numpy())\n",
    "\n",
    "        # dev\n",
    "        print(f\"{datetime.now()}: Validating\")\n",
    "        dev_predictions = validate(dev_data, model)\n",
    "        train_acc = accuracy(y_train, train_predictions)\n",
    "        dev_acc = accuracy(y_dev, dev_predictions)\n",
    "\n",
    "        print(f\"\\nEpoch: {epoch + 1}/{args.num_epochs}, Loss: {loss.item():.8f}, Train accuracy: {train_acc:.8f}, Val accuracy: {dev_acc:.8f}\")\n"
   ]
  },
  {
   "cell_type": "code",
   "execution_count": 145,
   "id": "79b54e46",
   "metadata": {},
   "outputs": [
    {
     "ename": "KeyboardInterrupt",
     "evalue": "",
     "output_type": "error",
     "traceback": [
      "\u001b[0;31m---------------------------------------------------------------------------\u001b[0m",
      "\u001b[0;31mKeyboardInterrupt\u001b[0m                         Traceback (most recent call last)",
      "\u001b[0;32m<ipython-input-145-740fbc34473f>\u001b[0m in \u001b[0;36m<module>\u001b[0;34m\u001b[0m\n\u001b[1;32m      1\u001b[0m \u001b[0margs\u001b[0m \u001b[0;34m=\u001b[0m \u001b[0mArgs\u001b[0m\u001b[0;34m(\u001b[0m\u001b[0;34m)\u001b[0m\u001b[0;34m\u001b[0m\u001b[0;34m\u001b[0m\u001b[0m\n\u001b[0;32m----> 2\u001b[0;31m \u001b[0mtrain\u001b[0m\u001b[0;34m(\u001b[0m\u001b[0margs\u001b[0m\u001b[0;34m,\u001b[0m \u001b[0mX_train\u001b[0m\u001b[0;34m,\u001b[0m \u001b[0my_train\u001b[0m\u001b[0;34m,\u001b[0m \u001b[0mX_dev\u001b[0m\u001b[0;34m,\u001b[0m \u001b[0my_dev\u001b[0m\u001b[0;34m)\u001b[0m\u001b[0;34m\u001b[0m\u001b[0;34m\u001b[0m\u001b[0m\n\u001b[0m",
      "\u001b[0;32m<ipython-input-144-aee6911bbf8a>\u001b[0m in \u001b[0;36mtrain\u001b[0;34m(args, X_train, y_train, X_dev, y_dev)\u001b[0m\n\u001b[1;32m     58\u001b[0m             \u001b[0mloss\u001b[0m \u001b[0;34m=\u001b[0m \u001b[0mF\u001b[0m\u001b[0;34m.\u001b[0m\u001b[0mbinary_cross_entropy\u001b[0m\u001b[0;34m(\u001b[0m\u001b[0my_pred\u001b[0m\u001b[0;34m,\u001b[0m \u001b[0my\u001b[0m\u001b[0;34m)\u001b[0m\u001b[0;34m\u001b[0m\u001b[0;34m\u001b[0m\u001b[0m\n\u001b[1;32m     59\u001b[0m             \u001b[0moptimizer\u001b[0m\u001b[0;34m.\u001b[0m\u001b[0mzero_grad\u001b[0m\u001b[0;34m(\u001b[0m\u001b[0;34m)\u001b[0m\u001b[0;34m\u001b[0m\u001b[0;34m\u001b[0m\u001b[0m\n\u001b[0;32m---> 60\u001b[0;31m             \u001b[0mloss\u001b[0m\u001b[0;34m.\u001b[0m\u001b[0mbackward\u001b[0m\u001b[0;34m(\u001b[0m\u001b[0;34m)\u001b[0m\u001b[0;34m\u001b[0m\u001b[0;34m\u001b[0m\u001b[0m\n\u001b[0m\u001b[1;32m     61\u001b[0m             \u001b[0moptimizer\u001b[0m\u001b[0;34m.\u001b[0m\u001b[0mstep\u001b[0m\u001b[0;34m(\u001b[0m\u001b[0;34m)\u001b[0m\u001b[0;34m\u001b[0m\u001b[0;34m\u001b[0m\u001b[0m\n\u001b[1;32m     62\u001b[0m             \u001b[0mtrain_predictions\u001b[0m \u001b[0;34m+=\u001b[0m \u001b[0mlist\u001b[0m\u001b[0;34m(\u001b[0m\u001b[0my_pred\u001b[0m\u001b[0;34m.\u001b[0m\u001b[0msqueeze\u001b[0m\u001b[0;34m(\u001b[0m\u001b[0;34m)\u001b[0m\u001b[0;34m.\u001b[0m\u001b[0mdetach\u001b[0m\u001b[0;34m(\u001b[0m\u001b[0;34m)\u001b[0m\u001b[0;34m.\u001b[0m\u001b[0mnumpy\u001b[0m\u001b[0;34m(\u001b[0m\u001b[0;34m)\u001b[0m\u001b[0;34m)\u001b[0m\u001b[0;34m\u001b[0m\u001b[0;34m\u001b[0m\u001b[0m\n",
      "\u001b[0;32m~/miniconda3/lib/python3.8/site-packages/torch/tensor.py\u001b[0m in \u001b[0;36mbackward\u001b[0;34m(self, gradient, retain_graph, create_graph, inputs)\u001b[0m\n\u001b[1;32m    243\u001b[0m                 \u001b[0mcreate_graph\u001b[0m\u001b[0;34m=\u001b[0m\u001b[0mcreate_graph\u001b[0m\u001b[0;34m,\u001b[0m\u001b[0;34m\u001b[0m\u001b[0;34m\u001b[0m\u001b[0m\n\u001b[1;32m    244\u001b[0m                 inputs=inputs)\n\u001b[0;32m--> 245\u001b[0;31m         \u001b[0mtorch\u001b[0m\u001b[0;34m.\u001b[0m\u001b[0mautograd\u001b[0m\u001b[0;34m.\u001b[0m\u001b[0mbackward\u001b[0m\u001b[0;34m(\u001b[0m\u001b[0mself\u001b[0m\u001b[0;34m,\u001b[0m \u001b[0mgradient\u001b[0m\u001b[0;34m,\u001b[0m \u001b[0mretain_graph\u001b[0m\u001b[0;34m,\u001b[0m \u001b[0mcreate_graph\u001b[0m\u001b[0;34m,\u001b[0m \u001b[0minputs\u001b[0m\u001b[0;34m=\u001b[0m\u001b[0minputs\u001b[0m\u001b[0;34m)\u001b[0m\u001b[0;34m\u001b[0m\u001b[0;34m\u001b[0m\u001b[0m\n\u001b[0m\u001b[1;32m    246\u001b[0m \u001b[0;34m\u001b[0m\u001b[0m\n\u001b[1;32m    247\u001b[0m     \u001b[0;32mdef\u001b[0m \u001b[0mregister_hook\u001b[0m\u001b[0;34m(\u001b[0m\u001b[0mself\u001b[0m\u001b[0;34m,\u001b[0m \u001b[0mhook\u001b[0m\u001b[0;34m)\u001b[0m\u001b[0;34m:\u001b[0m\u001b[0;34m\u001b[0m\u001b[0;34m\u001b[0m\u001b[0m\n",
      "\u001b[0;32m~/miniconda3/lib/python3.8/site-packages/torch/autograd/__init__.py\u001b[0m in \u001b[0;36mbackward\u001b[0;34m(tensors, grad_tensors, retain_graph, create_graph, grad_variables, inputs)\u001b[0m\n\u001b[1;32m    143\u001b[0m         \u001b[0mretain_graph\u001b[0m \u001b[0;34m=\u001b[0m \u001b[0mcreate_graph\u001b[0m\u001b[0;34m\u001b[0m\u001b[0;34m\u001b[0m\u001b[0m\n\u001b[1;32m    144\u001b[0m \u001b[0;34m\u001b[0m\u001b[0m\n\u001b[0;32m--> 145\u001b[0;31m     Variable._execution_engine.run_backward(\n\u001b[0m\u001b[1;32m    146\u001b[0m         \u001b[0mtensors\u001b[0m\u001b[0;34m,\u001b[0m \u001b[0mgrad_tensors_\u001b[0m\u001b[0;34m,\u001b[0m \u001b[0mretain_graph\u001b[0m\u001b[0;34m,\u001b[0m \u001b[0mcreate_graph\u001b[0m\u001b[0;34m,\u001b[0m \u001b[0minputs\u001b[0m\u001b[0;34m,\u001b[0m\u001b[0;34m\u001b[0m\u001b[0;34m\u001b[0m\u001b[0m\n\u001b[1;32m    147\u001b[0m         allow_unreachable=True, accumulate_grad=True)  # allow_unreachable flag\n",
      "\u001b[0;31mKeyboardInterrupt\u001b[0m: "
     ]
    }
   ],
   "source": [
    "args = Args()\n",
    "train(args, X_train, y_train, X_dev, y_dev)"
   ]
  }
 ],
 "metadata": {
  "kernelspec": {
   "display_name": "Python 3",
   "language": "python",
   "name": "python3"
  },
  "language_info": {
   "codemirror_mode": {
    "name": "ipython",
    "version": 3
   },
   "file_extension": ".py",
   "mimetype": "text/x-python",
   "name": "python",
   "nbconvert_exporter": "python",
   "pygments_lexer": "ipython3",
   "version": "3.8.5"
  }
 },
 "nbformat": 4,
 "nbformat_minor": 5
}
