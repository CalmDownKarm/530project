{
  "nbformat": 4,
  "nbformat_minor": 0,
  "metadata": {
    "colab": {
      "name": "530_Project_Hard_Baseline.ipynb",
      "provenance": [],
      "collapsed_sections": []
    },
    "kernelspec": {
      "name": "python3",
      "display_name": "Python 3"
    },
    "language_info": {
      "name": "python"
    }
  },
  "cells": [
    {
      "cell_type": "code",
      "metadata": {
        "colab": {
          "base_uri": "https://localhost:8080/"
        },
        "id": "_1clAUyF1wYz",
        "outputId": "f8b1790c-7042-4cc6-8acc-e5664ace02b9"
      },
      "source": [
        "# mounting drive\n",
        "from google.colab import drive\n",
        "drive.mount('/content/drive')"
      ],
      "execution_count": 51,
      "outputs": [
        {
          "output_type": "stream",
          "name": "stdout",
          "text": [
            "Drive already mounted at /content/drive; to attempt to forcibly remount, call drive.mount(\"/content/drive\", force_remount=True).\n"
          ]
        }
      ]
    },
    {
      "cell_type": "markdown",
      "metadata": {
        "id": "-V4ZPzHTWS0u"
      },
      "source": [
        "**Hard Baseline (with game data / NOT nba_records) : All-Time**"
      ]
    },
    {
      "cell_type": "markdown",
      "metadata": {
        "id": "fK0yf8C6WrQy"
      },
      "source": [
        "\n",
        "\n",
        "*   Import game_data\n"
      ]
    },
    {
      "cell_type": "code",
      "metadata": {
        "id": "ekn0CMEnWhbX"
      },
      "source": [
        "import pandas as pd\n",
        "game_results = pd.read_csv('/content/drive/Shareddrives/CIS530/data/games_with2_team_tweets.csv', index_col=0)\n",
        "teams_home = pd.read_csv('/content/drive/Shareddrives/CIS530/data/teams.csv')\n",
        "teams_away = pd.read_csv('/content/drive/Shareddrives/CIS530/data/teams.csv')\n",
        "all_games = pd.read_csv('/content/drive/Shareddrives/CIS530/data/games.csv')"
      ],
      "execution_count": 195,
      "outputs": []
    },
    {
      "cell_type": "markdown",
      "metadata": {
        "id": "_Nz9-DnFrst_"
      },
      "source": [
        "Clean Data\n",
        "*   Keep GAME_DATE_EST, HOME_TEAM_ID, VISITOR_TEAM_ID, HOME_TEAM_WINS\n",
        "*   Join with teams.csv for Team Names\n",
        "\n"
      ]
    },
    {
      "cell_type": "code",
      "metadata": {
        "id": "lFd2_3esAedo"
      },
      "source": [
        "all_games['GAME_DATE_EST'] = pd.to_datetime(all_games['GAME_DATE_EST'])"
      ],
      "execution_count": 196,
      "outputs": []
    },
    {
      "cell_type": "code",
      "metadata": {
        "colab": {
          "base_uri": "https://localhost:8080/"
        },
        "id": "16HlSloxsG7_",
        "outputId": "80dc7c1c-7029-42ba-dcff-1ff790eedaca"
      },
      "source": [
        "game_results = game_results[['GAME_DATE_EST', 'HOME_TEAM_ID', 'VISITOR_TEAM_ID', 'HOME_TEAM_WINS']]\n",
        "game_results['GAME_DATE_EST'] = pd.to_datetime(game_results['GAME_DATE_EST'])"
      ],
      "execution_count": 197,
      "outputs": [
        {
          "output_type": "stream",
          "name": "stderr",
          "text": [
            "/usr/local/lib/python3.7/dist-packages/ipykernel_launcher.py:2: SettingWithCopyWarning: \n",
            "A value is trying to be set on a copy of a slice from a DataFrame.\n",
            "Try using .loc[row_indexer,col_indexer] = value instead\n",
            "\n",
            "See the caveats in the documentation: https://pandas.pydata.org/pandas-docs/stable/user_guide/indexing.html#returning-a-view-versus-a-copy\n",
            "  \n"
          ]
        }
      ]
    },
    {
      "cell_type": "code",
      "metadata": {
        "id": "uVVu5Q7Av3Rw"
      },
      "source": [
        "teams_home = teams_home.rename(columns={'TEAM_ID': 'HOME_TEAM_ID'})\n",
        "teams_away = teams_away.rename(columns={'TEAM_ID': 'VISITOR_TEAM_ID'})\n",
        "teams_home = teams_home[['HOME_TEAM_ID', 'NICKNAME']]\n",
        "teams_away = teams_away[['VISITOR_TEAM_ID', 'NICKNAME']]"
      ],
      "execution_count": 198,
      "outputs": []
    },
    {
      "cell_type": "code",
      "metadata": {
        "id": "08FLv3F_vLxM"
      },
      "source": [
        "# game_results_final = game_results.merge(teams_home, how='left', on=['HOME_TEAM_ID'])\n",
        "# game_results_final = game_results_final.rename(columns={'NICKNAME': 'HOME_NAME'})\n",
        "\n",
        "# game_results_final = game_results_final.merge(teams_away, how='left', on=['VISITOR_TEAM_ID'])\n",
        "# game_results_final = game_results_final.rename(columns={'NICKNAME':'AWAY_NAME'})\n",
        "\n",
        "# game_results_final = game_results_final[['GAME_DATE_EST', 'HOME_NAME', 'AWAY_NAME', 'HOME_TEAM_WINS']]\n",
        "# game_results_final['AWAY_TEAM_WINS'] = [1 if home_win == 0 else 0 for home_win in game_results_final['HOME_TEAM_WINS']]"
      ],
      "execution_count": 158,
      "outputs": []
    },
    {
      "cell_type": "code",
      "metadata": {
        "id": "AXXd7Wf2wDTt"
      },
      "source": [
        "game_results = game_results.reset_index()"
      ],
      "execution_count": 199,
      "outputs": []
    },
    {
      "cell_type": "code",
      "metadata": {
        "colab": {
          "base_uri": "https://localhost:8080/",
          "height": 206
        },
        "id": "zl_MEfV7IAhW",
        "outputId": "c3af5aa6-b95a-42dd-9514-ab0bee47b918"
      },
      "source": [
        "game_results.head(5)"
      ],
      "execution_count": 200,
      "outputs": [
        {
          "output_type": "execute_result",
          "data": {
            "text/html": [
              "<div>\n",
              "<style scoped>\n",
              "    .dataframe tbody tr th:only-of-type {\n",
              "        vertical-align: middle;\n",
              "    }\n",
              "\n",
              "    .dataframe tbody tr th {\n",
              "        vertical-align: top;\n",
              "    }\n",
              "\n",
              "    .dataframe thead th {\n",
              "        text-align: right;\n",
              "    }\n",
              "</style>\n",
              "<table border=\"1\" class=\"dataframe\">\n",
              "  <thead>\n",
              "    <tr style=\"text-align: right;\">\n",
              "      <th></th>\n",
              "      <th>index</th>\n",
              "      <th>GAME_DATE_EST</th>\n",
              "      <th>HOME_TEAM_ID</th>\n",
              "      <th>VISITOR_TEAM_ID</th>\n",
              "      <th>HOME_TEAM_WINS</th>\n",
              "    </tr>\n",
              "  </thead>\n",
              "  <tbody>\n",
              "    <tr>\n",
              "      <th>0</th>\n",
              "      <td>3</td>\n",
              "      <td>2021-11-17</td>\n",
              "      <td>1610612751</td>\n",
              "      <td>1610612739</td>\n",
              "      <td>1</td>\n",
              "    </tr>\n",
              "    <tr>\n",
              "      <th>1</th>\n",
              "      <td>11</td>\n",
              "      <td>2021-11-16</td>\n",
              "      <td>1610612751</td>\n",
              "      <td>1610612744</td>\n",
              "      <td>0</td>\n",
              "    </tr>\n",
              "    <tr>\n",
              "      <th>2</th>\n",
              "      <td>13</td>\n",
              "      <td>2021-11-16</td>\n",
              "      <td>1610612746</td>\n",
              "      <td>1610612759</td>\n",
              "      <td>1</td>\n",
              "    </tr>\n",
              "    <tr>\n",
              "      <th>3</th>\n",
              "      <td>14</td>\n",
              "      <td>2021-11-15</td>\n",
              "      <td>1610612739</td>\n",
              "      <td>1610612738</td>\n",
              "      <td>0</td>\n",
              "    </tr>\n",
              "    <tr>\n",
              "      <th>4</th>\n",
              "      <td>20</td>\n",
              "      <td>2021-11-15</td>\n",
              "      <td>1610612763</td>\n",
              "      <td>1610612745</td>\n",
              "      <td>1</td>\n",
              "    </tr>\n",
              "  </tbody>\n",
              "</table>\n",
              "</div>"
            ],
            "text/plain": [
              "   index GAME_DATE_EST  HOME_TEAM_ID  VISITOR_TEAM_ID  HOME_TEAM_WINS\n",
              "0      3    2021-11-17    1610612751       1610612739               1\n",
              "1     11    2021-11-16    1610612751       1610612744               0\n",
              "2     13    2021-11-16    1610612746       1610612759               1\n",
              "3     14    2021-11-15    1610612739       1610612738               0\n",
              "4     20    2021-11-15    1610612763       1610612745               1"
            ]
          },
          "metadata": {},
          "execution_count": 200
        }
      ]
    },
    {
      "cell_type": "code",
      "metadata": {
        "id": "FZmJdL3JBfx2"
      },
      "source": [
        "all_games = all_games.dropna()"
      ],
      "execution_count": 201,
      "outputs": []
    },
    {
      "cell_type": "code",
      "metadata": {
        "colab": {
          "base_uri": "https://localhost:8080/",
          "height": 226
        },
        "id": "SXnY4w7vDQoz",
        "outputId": "70a782dd-2a29-4d4d-e63f-e6342bd29889"
      },
      "source": [
        "all_games.head(5)"
      ],
      "execution_count": 202,
      "outputs": [
        {
          "output_type": "execute_result",
          "data": {
            "text/html": [
              "<div>\n",
              "<style scoped>\n",
              "    .dataframe tbody tr th:only-of-type {\n",
              "        vertical-align: middle;\n",
              "    }\n",
              "\n",
              "    .dataframe tbody tr th {\n",
              "        vertical-align: top;\n",
              "    }\n",
              "\n",
              "    .dataframe thead th {\n",
              "        text-align: right;\n",
              "    }\n",
              "</style>\n",
              "<table border=\"1\" class=\"dataframe\">\n",
              "  <thead>\n",
              "    <tr style=\"text-align: right;\">\n",
              "      <th></th>\n",
              "      <th>GAME_DATE_EST</th>\n",
              "      <th>GAME_ID</th>\n",
              "      <th>GAME_STATUS_TEXT</th>\n",
              "      <th>HOME_TEAM_ID</th>\n",
              "      <th>VISITOR_TEAM_ID</th>\n",
              "      <th>SEASON</th>\n",
              "      <th>TEAM_ID_home</th>\n",
              "      <th>PTS_home</th>\n",
              "      <th>FG_PCT_home</th>\n",
              "      <th>FT_PCT_home</th>\n",
              "      <th>FG3_PCT_home</th>\n",
              "      <th>AST_home</th>\n",
              "      <th>REB_home</th>\n",
              "      <th>TEAM_ID_away</th>\n",
              "      <th>PTS_away</th>\n",
              "      <th>FG_PCT_away</th>\n",
              "      <th>FT_PCT_away</th>\n",
              "      <th>FG3_PCT_away</th>\n",
              "      <th>AST_away</th>\n",
              "      <th>REB_away</th>\n",
              "      <th>HOME_TEAM_WINS</th>\n",
              "    </tr>\n",
              "  </thead>\n",
              "  <tbody>\n",
              "    <tr>\n",
              "      <th>0</th>\n",
              "      <td>2021-11-17</td>\n",
              "      <td>22100213</td>\n",
              "      <td>Final</td>\n",
              "      <td>1610612766</td>\n",
              "      <td>1610612764</td>\n",
              "      <td>2021</td>\n",
              "      <td>1610612766</td>\n",
              "      <td>97.0</td>\n",
              "      <td>0.438</td>\n",
              "      <td>0.500</td>\n",
              "      <td>0.313</td>\n",
              "      <td>30.0</td>\n",
              "      <td>59.0</td>\n",
              "      <td>1610612764</td>\n",
              "      <td>87.0</td>\n",
              "      <td>0.367</td>\n",
              "      <td>0.813</td>\n",
              "      <td>0.190</td>\n",
              "      <td>23.0</td>\n",
              "      <td>48.0</td>\n",
              "      <td>1</td>\n",
              "    </tr>\n",
              "    <tr>\n",
              "      <th>1</th>\n",
              "      <td>2021-11-17</td>\n",
              "      <td>22100214</td>\n",
              "      <td>Final</td>\n",
              "      <td>1610612765</td>\n",
              "      <td>1610612754</td>\n",
              "      <td>2021</td>\n",
              "      <td>1610612765</td>\n",
              "      <td>97.0</td>\n",
              "      <td>0.425</td>\n",
              "      <td>0.750</td>\n",
              "      <td>0.286</td>\n",
              "      <td>16.0</td>\n",
              "      <td>42.0</td>\n",
              "      <td>1610612754</td>\n",
              "      <td>89.0</td>\n",
              "      <td>0.418</td>\n",
              "      <td>0.737</td>\n",
              "      <td>0.243</td>\n",
              "      <td>14.0</td>\n",
              "      <td>43.0</td>\n",
              "      <td>1</td>\n",
              "    </tr>\n",
              "    <tr>\n",
              "      <th>2</th>\n",
              "      <td>2021-11-17</td>\n",
              "      <td>22100215</td>\n",
              "      <td>Final</td>\n",
              "      <td>1610612737</td>\n",
              "      <td>1610612738</td>\n",
              "      <td>2021</td>\n",
              "      <td>1610612737</td>\n",
              "      <td>110.0</td>\n",
              "      <td>0.506</td>\n",
              "      <td>0.833</td>\n",
              "      <td>0.351</td>\n",
              "      <td>28.0</td>\n",
              "      <td>40.0</td>\n",
              "      <td>1610612738</td>\n",
              "      <td>99.0</td>\n",
              "      <td>0.440</td>\n",
              "      <td>0.824</td>\n",
              "      <td>0.268</td>\n",
              "      <td>24.0</td>\n",
              "      <td>42.0</td>\n",
              "      <td>1</td>\n",
              "    </tr>\n",
              "    <tr>\n",
              "      <th>3</th>\n",
              "      <td>2021-11-17</td>\n",
              "      <td>22100216</td>\n",
              "      <td>Final</td>\n",
              "      <td>1610612751</td>\n",
              "      <td>1610612739</td>\n",
              "      <td>2021</td>\n",
              "      <td>1610612751</td>\n",
              "      <td>109.0</td>\n",
              "      <td>0.458</td>\n",
              "      <td>0.840</td>\n",
              "      <td>0.375</td>\n",
              "      <td>29.0</td>\n",
              "      <td>47.0</td>\n",
              "      <td>1610612739</td>\n",
              "      <td>99.0</td>\n",
              "      <td>0.393</td>\n",
              "      <td>0.857</td>\n",
              "      <td>0.250</td>\n",
              "      <td>20.0</td>\n",
              "      <td>50.0</td>\n",
              "      <td>1</td>\n",
              "    </tr>\n",
              "    <tr>\n",
              "      <th>4</th>\n",
              "      <td>2021-11-17</td>\n",
              "      <td>22100217</td>\n",
              "      <td>Final</td>\n",
              "      <td>1610612748</td>\n",
              "      <td>1610612740</td>\n",
              "      <td>2021</td>\n",
              "      <td>1610612748</td>\n",
              "      <td>113.0</td>\n",
              "      <td>0.483</td>\n",
              "      <td>0.824</td>\n",
              "      <td>0.375</td>\n",
              "      <td>29.0</td>\n",
              "      <td>39.0</td>\n",
              "      <td>1610612740</td>\n",
              "      <td>98.0</td>\n",
              "      <td>0.440</td>\n",
              "      <td>0.786</td>\n",
              "      <td>0.286</td>\n",
              "      <td>18.0</td>\n",
              "      <td>38.0</td>\n",
              "      <td>1</td>\n",
              "    </tr>\n",
              "  </tbody>\n",
              "</table>\n",
              "</div>"
            ],
            "text/plain": [
              "  GAME_DATE_EST   GAME_ID GAME_STATUS_TEXT  ...  AST_away  REB_away  HOME_TEAM_WINS\n",
              "0    2021-11-17  22100213            Final  ...      23.0      48.0               1\n",
              "1    2021-11-17  22100214            Final  ...      14.0      43.0               1\n",
              "2    2021-11-17  22100215            Final  ...      24.0      42.0               1\n",
              "3    2021-11-17  22100216            Final  ...      20.0      50.0               1\n",
              "4    2021-11-17  22100217            Final  ...      18.0      38.0               1\n",
              "\n",
              "[5 rows x 21 columns]"
            ]
          },
          "metadata": {},
          "execution_count": 202
        }
      ]
    },
    {
      "cell_type": "markdown",
      "metadata": {
        "id": "laTApqzbWxaB"
      },
      "source": [
        "\n",
        "\n",
        "*   Calculate Win/Loss before each game for both teams\n",
        " *  For each game, calculate the number of losses and wins for each team previous to the date of that game\n"
      ]
    },
    {
      "cell_type": "code",
      "metadata": {
        "id": "9LzNvFuyW5gl"
      },
      "source": [
        "def get_strong_baseline_home(row):\n",
        "    home_team_games_playing_home = all_games[(all_games[\"HOME_TEAM_ID\"] == row[\"HOME_TEAM_ID\"])\n",
        "                                     &(all_games[\"GAME_DATE_EST\"] < row[\"GAME_DATE_EST\"])]\n",
        "    home_team_games_playing_away = all_games[(all_games[\"VISITOR_TEAM_ID\"] == row[\"HOME_TEAM_ID\"])\n",
        "                                     &(all_games[\"GAME_DATE_EST\"] < row[\"GAME_DATE_EST\"])]\n",
        "    total_home_team_games = home_team_games_playing_home.shape[0] + home_team_games_playing_away.shape[0]\n",
        " \n",
        "    home_team_wins_playing_home = home_team_games_playing_home[home_team_games_playing_home[\"HOME_TEAM_WINS\"]==1].shape[0]\n",
        "    home_team_wins_playing_away = home_team_games_playing_away[home_team_games_playing_away[\"HOME_TEAM_WINS\"]==0].shape[0]\n",
        "    home_team_wins = home_team_wins_playing_home + home_team_wins_playing_away\n",
        " \n",
        "    home_team_losses_playing_home = home_team_games_playing_home[home_team_games_playing_home[\"HOME_TEAM_WINS\"]==0].shape[0]\n",
        "    home_team_losses_playing_away = home_team_games_playing_away[home_team_games_playing_away[\"HOME_TEAM_WINS\"]==1].shape[0]\n",
        "    home_team_losses = home_team_losses_playing_home + home_team_losses_playing_away\n",
        " \n",
        "    return home_team_wins/home_team_losses\n",
        "\n",
        "\n",
        " \n",
        "home_win_loss = game_results.apply(get_strong_baseline_home, axis=1)"
      ],
      "execution_count": 203,
      "outputs": []
    },
    {
      "cell_type": "code",
      "metadata": {
        "colab": {
          "base_uri": "https://localhost:8080/"
        },
        "id": "CIIHz8tBF3zm",
        "outputId": "903044d9-912f-48dc-ca54-97980af57511"
      },
      "source": [
        ""
      ],
      "execution_count": 181,
      "outputs": [
        {
          "output_type": "execute_result",
          "data": {
            "text/plain": [
              "4035"
            ]
          },
          "metadata": {},
          "execution_count": 181
        }
      ]
    },
    {
      "cell_type": "code",
      "metadata": {
        "id": "PyC6_qM2EBYM"
      },
      "source": [
        "def get_strong_baseline_away(row):\n",
        "    away_team_games_playing_away = all_games[(all_games[\"VISITOR_TEAM_ID\"] == row[\"VISITOR_TEAM_ID\"])\n",
        "                                     &(all_games[\"GAME_DATE_EST\"] < row[\"GAME_DATE_EST\"])]\n",
        "    away_team_games_playing_home = all_games[(all_games[\"HOME_TEAM_ID\"] == row[\"VISITOR_TEAM_ID\"])\n",
        "                                     &(all_games[\"GAME_DATE_EST\"] < row[\"GAME_DATE_EST\"])]\n",
        "    total_away_team_games = away_team_games_playing_away.shape[0] + away_team_games_playing_home.shape[0]\n",
        " \n",
        "    away_team_wins_playing_away = away_team_games_playing_away[away_team_games_playing_away[\"HOME_TEAM_WINS\"]==0].shape[0]\n",
        "    away_team_wins_playing_home = away_team_games_playing_home[away_team_games_playing_home[\"HOME_TEAM_WINS\"]==1].shape[0]\n",
        "    away_team_wins = away_team_wins_playing_away + away_team_wins_playing_home\n",
        " \n",
        "    away_team_losses_playing_away = away_team_games_playing_away[away_team_games_playing_away[\"HOME_TEAM_WINS\"]==1].shape[0]\n",
        "    away_team_losses_playing_home = away_team_games_playing_home[away_team_games_playing_home[\"HOME_TEAM_WINS\"]==0].shape[0]\n",
        "    away_team_losses = away_team_losses_playing_away + away_team_losses_playing_home\n",
        " \n",
        "    return away_team_wins/away_team_losses\n",
        "\n",
        "\n",
        " \n",
        "away_win_loss = game_results.apply(get_strong_baseline_away, axis=1)"
      ],
      "execution_count": 204,
      "outputs": []
    },
    {
      "cell_type": "code",
      "metadata": {
        "id": "3Z_rnBfzF45N"
      },
      "source": [
        "print(home_win_loss)\n",
        "away_win_loss"
      ],
      "execution_count": null,
      "outputs": []
    },
    {
      "cell_type": "markdown",
      "metadata": {
        "id": "l6eW3IOGW8yS"
      },
      "source": [
        "\n",
        "\n",
        "*   Set \"Actual\" result\n",
        "*   Set \"Predicted\" result (based on highest win/loss)\n"
      ]
    },
    {
      "cell_type": "code",
      "metadata": {
        "id": "eamLUkP1GqfF"
      },
      "source": [
        "game_results['HOME_W_L'] = home_win_loss\n",
        "game_results['AWAY_W_L'] = away_win_loss"
      ],
      "execution_count": 213,
      "outputs": []
    },
    {
      "cell_type": "code",
      "metadata": {
        "colab": {
          "base_uri": "https://localhost:8080/",
          "height": 206
        },
        "id": "h5Cdzrt_JGeG",
        "outputId": "ecef09b3-ae3b-46cd-d59c-5cca2f89f405"
      },
      "source": [
        "game_results.head(5)"
      ],
      "execution_count": 214,
      "outputs": [
        {
          "output_type": "execute_result",
          "data": {
            "text/html": [
              "<div>\n",
              "<style scoped>\n",
              "    .dataframe tbody tr th:only-of-type {\n",
              "        vertical-align: middle;\n",
              "    }\n",
              "\n",
              "    .dataframe tbody tr th {\n",
              "        vertical-align: top;\n",
              "    }\n",
              "\n",
              "    .dataframe thead th {\n",
              "        text-align: right;\n",
              "    }\n",
              "</style>\n",
              "<table border=\"1\" class=\"dataframe\">\n",
              "  <thead>\n",
              "    <tr style=\"text-align: right;\">\n",
              "      <th></th>\n",
              "      <th>index</th>\n",
              "      <th>GAME_DATE_EST</th>\n",
              "      <th>HOME_TEAM_ID</th>\n",
              "      <th>VISITOR_TEAM_ID</th>\n",
              "      <th>HOME_TEAM_WINS</th>\n",
              "      <th>HOME_W_L</th>\n",
              "      <th>AWAY_W_L</th>\n",
              "    </tr>\n",
              "  </thead>\n",
              "  <tbody>\n",
              "    <tr>\n",
              "      <th>0</th>\n",
              "      <td>3</td>\n",
              "      <td>2021-11-17</td>\n",
              "      <td>1610612751</td>\n",
              "      <td>1610612739</td>\n",
              "      <td>1</td>\n",
              "      <td>0.789760</td>\n",
              "      <td>1.033413</td>\n",
              "    </tr>\n",
              "    <tr>\n",
              "      <th>1</th>\n",
              "      <td>11</td>\n",
              "      <td>2021-11-16</td>\n",
              "      <td>1610612751</td>\n",
              "      <td>1610612744</td>\n",
              "      <td>0</td>\n",
              "      <td>0.790622</td>\n",
              "      <td>1.270525</td>\n",
              "    </tr>\n",
              "    <tr>\n",
              "      <th>2</th>\n",
              "      <td>13</td>\n",
              "      <td>2021-11-16</td>\n",
              "      <td>1610612746</td>\n",
              "      <td>1610612759</td>\n",
              "      <td>1</td>\n",
              "      <td>1.075871</td>\n",
              "      <td>1.847896</td>\n",
              "    </tr>\n",
              "    <tr>\n",
              "      <th>3</th>\n",
              "      <td>14</td>\n",
              "      <td>2021-11-15</td>\n",
              "      <td>1610612739</td>\n",
              "      <td>1610612738</td>\n",
              "      <td>0</td>\n",
              "      <td>1.034648</td>\n",
              "      <td>1.246154</td>\n",
              "    </tr>\n",
              "    <tr>\n",
              "      <th>4</th>\n",
              "      <td>20</td>\n",
              "      <td>2021-11-15</td>\n",
              "      <td>1610612763</td>\n",
              "      <td>1610612745</td>\n",
              "      <td>1</td>\n",
              "      <td>0.965394</td>\n",
              "      <td>1.336565</td>\n",
              "    </tr>\n",
              "  </tbody>\n",
              "</table>\n",
              "</div>"
            ],
            "text/plain": [
              "   index GAME_DATE_EST  HOME_TEAM_ID  ...  HOME_TEAM_WINS  HOME_W_L  AWAY_W_L\n",
              "0      3    2021-11-17    1610612751  ...               1  0.789760  1.033413\n",
              "1     11    2021-11-16    1610612751  ...               0  0.790622  1.270525\n",
              "2     13    2021-11-16    1610612746  ...               1  1.075871  1.847896\n",
              "3     14    2021-11-15    1610612739  ...               0  1.034648  1.246154\n",
              "4     20    2021-11-15    1610612763  ...               1  0.965394  1.336565\n",
              "\n",
              "[5 rows x 7 columns]"
            ]
          },
          "metadata": {},
          "execution_count": 214
        }
      ]
    },
    {
      "cell_type": "code",
      "metadata": {
        "id": "0gqkPejbJOIg"
      },
      "source": [
        "game_results['PRED_HOME_TEAM_WINS'] = game_results.apply(lambda row: 1 if row.HOME_W_L >= row.AWAY_W_L else 0, axis=1)"
      ],
      "execution_count": 219,
      "outputs": []
    },
    {
      "cell_type": "code",
      "metadata": {
        "id": "iURLnTQ7XGjS"
      },
      "source": [
        "actual = game_results['HOME_TEAM_WINS']\n",
        "predicted = game_results['PRED_HOME_TEAM_WINS']"
      ],
      "execution_count": 222,
      "outputs": []
    },
    {
      "cell_type": "markdown",
      "metadata": {
        "id": "ugrnf4IcLy27"
      },
      "source": [
        "Accuracy: F1 and accuracy"
      ]
    },
    {
      "cell_type": "code",
      "metadata": {
        "colab": {
          "base_uri": "https://localhost:8080/"
        },
        "id": "ikrZkTyiL1Rn",
        "outputId": "3087e600-52fb-47c9-e834-4655d5168085"
      },
      "source": [
        "from sklearn.metrics import f1_score, accuracy_score\n",
        "f1_score = f1_score(actual, predicted)\n",
        "accuracy_score = accuracy_score(actual, predicted)\n",
        "print(\"F1: \" + str(f1_score), \"Accuracy: \" + str(accuracy_score))"
      ],
      "execution_count": 228,
      "outputs": [
        {
          "output_type": "stream",
          "name": "stdout",
          "text": [
            "F1: 0.5806598407281 Accuracy: 0.5432465923172243\n"
          ]
        }
      ]
    },
    {
      "cell_type": "markdown",
      "metadata": {
        "id": "A6208XO0Wdky"
      },
      "source": [
        "**Hard Baseline (with game data / NOT nba_records) : Per Season**\n"
      ]
    },
    {
      "cell_type": "code",
      "metadata": {
        "id": "qKR0vAzLWg73"
      },
      "source": [
        ""
      ],
      "execution_count": null,
      "outputs": []
    }
  ]
}